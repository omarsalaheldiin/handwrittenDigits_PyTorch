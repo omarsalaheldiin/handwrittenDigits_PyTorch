{
  "cells": [
    {
      "cell_type": "markdown",
      "metadata": {},
      "source": [
        "# Classifying handwritten digits from the MNIST dataset using pytorch "
      ]
    },
    {
      "cell_type": "markdown",
      "metadata": {},
      "source": [
        "## Imports"
      ]
    },
    {
      "cell_type": "code",
      "execution_count": 1,
      "metadata": {
        "id": "upA-p8dlgP2b"
      },
      "outputs": [],
      "source": [
        "from torchvision import datasets\n",
        "from torchvision.transforms import ToTensor\n",
        "from torch.utils.data import DataLoader\n",
        "import torch\n",
        "import torch.nn as nn\n",
        "import torch.nn.functional as F\n",
        "import torch.optim as optim\n",
        "import matplotlib.pyplot as plt\n"
      ]
    },
    {
      "cell_type": "markdown",
      "metadata": {},
      "source": [
        "## Downloading the data"
      ]
    },
    {
      "cell_type": "code",
      "execution_count": 2,
      "metadata": {
        "colab": {
          "base_uri": "https://localhost:8080/"
        },
        "id": "AGP85145gdtR",
        "outputId": "8c7e0cba-f359-4592-c872-b0eb1d3c26b6"
      },
      "outputs": [
        {
          "name": "stdout",
          "output_type": "stream",
          "text": [
            "Downloading http://yann.lecun.com/exdb/mnist/train-images-idx3-ubyte.gz\n",
            "Failed to download (trying next):\n",
            "HTTP Error 403: Forbidden\n",
            "\n",
            "Downloading https://ossci-datasets.s3.amazonaws.com/mnist/train-images-idx3-ubyte.gz\n",
            "Downloading https://ossci-datasets.s3.amazonaws.com/mnist/train-images-idx3-ubyte.gz to data/MNIST/raw/train-images-idx3-ubyte.gz\n"
          ]
        },
        {
          "name": "stderr",
          "output_type": "stream",
          "text": [
            "100.0%\n"
          ]
        },
        {
          "name": "stdout",
          "output_type": "stream",
          "text": [
            "Extracting data/MNIST/raw/train-images-idx3-ubyte.gz to data/MNIST/raw\n",
            "\n",
            "Downloading http://yann.lecun.com/exdb/mnist/train-labels-idx1-ubyte.gz\n",
            "Failed to download (trying next):\n",
            "HTTP Error 403: Forbidden\n",
            "\n",
            "Downloading https://ossci-datasets.s3.amazonaws.com/mnist/train-labels-idx1-ubyte.gz\n",
            "Downloading https://ossci-datasets.s3.amazonaws.com/mnist/train-labels-idx1-ubyte.gz to data/MNIST/raw/train-labels-idx1-ubyte.gz\n"
          ]
        },
        {
          "name": "stderr",
          "output_type": "stream",
          "text": [
            "100.0%\n"
          ]
        },
        {
          "name": "stdout",
          "output_type": "stream",
          "text": [
            "Extracting data/MNIST/raw/train-labels-idx1-ubyte.gz to data/MNIST/raw\n",
            "\n",
            "Downloading http://yann.lecun.com/exdb/mnist/t10k-images-idx3-ubyte.gz\n",
            "Failed to download (trying next):\n",
            "HTTP Error 403: Forbidden\n",
            "\n",
            "Downloading https://ossci-datasets.s3.amazonaws.com/mnist/t10k-images-idx3-ubyte.gz\n",
            "Downloading https://ossci-datasets.s3.amazonaws.com/mnist/t10k-images-idx3-ubyte.gz to data/MNIST/raw/t10k-images-idx3-ubyte.gz\n"
          ]
        },
        {
          "name": "stderr",
          "output_type": "stream",
          "text": [
            "100.0%\n"
          ]
        },
        {
          "name": "stdout",
          "output_type": "stream",
          "text": [
            "Extracting data/MNIST/raw/t10k-images-idx3-ubyte.gz to data/MNIST/raw\n",
            "\n",
            "Downloading http://yann.lecun.com/exdb/mnist/t10k-labels-idx1-ubyte.gz\n",
            "Failed to download (trying next):\n",
            "HTTP Error 403: Forbidden\n",
            "\n",
            "Downloading https://ossci-datasets.s3.amazonaws.com/mnist/t10k-labels-idx1-ubyte.gz\n",
            "Downloading https://ossci-datasets.s3.amazonaws.com/mnist/t10k-labels-idx1-ubyte.gz to data/MNIST/raw/t10k-labels-idx1-ubyte.gz\n"
          ]
        },
        {
          "name": "stderr",
          "output_type": "stream",
          "text": [
            "100.0%"
          ]
        },
        {
          "name": "stdout",
          "output_type": "stream",
          "text": [
            "Extracting data/MNIST/raw/t10k-labels-idx1-ubyte.gz to data/MNIST/raw\n",
            "\n"
          ]
        },
        {
          "name": "stderr",
          "output_type": "stream",
          "text": [
            "\n"
          ]
        }
      ],
      "source": [
        "trainData = datasets.MNIST(\n",
        "    root= 'data',\n",
        "    train = True,\n",
        "    transform = ToTensor(),\n",
        "    download = True\n",
        ")\n",
        "\n",
        "testData = datasets.MNIST(\n",
        "    root= 'data',\n",
        "    train = False,\n",
        "    transform = ToTensor(),\n",
        "    download = True\n",
        ")"
      ]
    },
    {
      "cell_type": "code",
      "execution_count": 3,
      "metadata": {
        "colab": {
          "base_uri": "https://localhost:8080/"
        },
        "id": "RGdEFI5Ig9OU",
        "outputId": "9a20d3d7-2c97-4870-8542-5e14234b2b15"
      },
      "outputs": [
        {
          "data": {
            "text/plain": [
              "Dataset MNIST\n",
              "    Number of datapoints: 60000\n",
              "    Root location: data\n",
              "    Split: Train\n",
              "    StandardTransform\n",
              "Transform: ToTensor()"
            ]
          },
          "execution_count": 3,
          "metadata": {},
          "output_type": "execute_result"
        }
      ],
      "source": [
        "trainData"
      ]
    },
    {
      "cell_type": "code",
      "execution_count": 4,
      "metadata": {
        "colab": {
          "base_uri": "https://localhost:8080/"
        },
        "id": "Foe6Hhjpg_qT",
        "outputId": "503a51aa-f2db-4c64-9348-cb008eecf143"
      },
      "outputs": [
        {
          "data": {
            "text/plain": [
              "Dataset MNIST\n",
              "    Number of datapoints: 10000\n",
              "    Root location: data\n",
              "    Split: Test\n",
              "    StandardTransform\n",
              "Transform: ToTensor()"
            ]
          },
          "execution_count": 4,
          "metadata": {},
          "output_type": "execute_result"
        }
      ],
      "source": [
        "testData"
      ]
    },
    {
      "cell_type": "code",
      "execution_count": 5,
      "metadata": {
        "colab": {
          "base_uri": "https://localhost:8080/"
        },
        "id": "Dg32eh2fhCSA",
        "outputId": "3347804d-2126-4919-f86d-5b57af493107"
      },
      "outputs": [
        {
          "data": {
            "text/plain": [
              "torch.Size([60000, 28, 28])"
            ]
          },
          "execution_count": 5,
          "metadata": {},
          "output_type": "execute_result"
        }
      ],
      "source": [
        "trainData.data.shape"
      ]
    },
    {
      "cell_type": "code",
      "execution_count": 6,
      "metadata": {
        "colab": {
          "base_uri": "https://localhost:8080/"
        },
        "id": "snrWfrTRhMAb",
        "outputId": "cbbcd2ce-38ed-46ff-ace5-c930e4412a09"
      },
      "outputs": [
        {
          "data": {
            "text/plain": [
              "torch.Size([10000, 28, 28])"
            ]
          },
          "execution_count": 6,
          "metadata": {},
          "output_type": "execute_result"
        }
      ],
      "source": [
        "testData.data.shape"
      ]
    },
    {
      "cell_type": "code",
      "execution_count": 7,
      "metadata": {
        "colab": {
          "base_uri": "https://localhost:8080/"
        },
        "id": "y0au0QTghJaV",
        "outputId": "e7930132-b401-4787-87fd-258d1e6033cf"
      },
      "outputs": [
        {
          "data": {
            "text/plain": [
              "tensor([5, 0, 4,  ..., 5, 6, 8])"
            ]
          },
          "execution_count": 7,
          "metadata": {},
          "output_type": "execute_result"
        }
      ],
      "source": [
        "trainData.targets"
      ]
    },
    {
      "cell_type": "markdown",
      "metadata": {},
      "source": [
        "## Creating data loaders for training and testing "
      ]
    },
    {
      "cell_type": "code",
      "execution_count": 9,
      "metadata": {
        "id": "pmVKCfz4hol9"
      },
      "outputs": [],
      "source": [
        "loaders = {\n",
        "    'train': DataLoader(\n",
        "        trainData,\n",
        "        batch_size=100,\n",
        "        shuffle=True,\n",
        "        num_workers=1\n",
        "    ),\n",
        "\n",
        "    'test': DataLoader(\n",
        "        testData,\n",
        "        batch_size=100,\n",
        "        shuffle=True,\n",
        "        num_workers=1\n",
        "    )\n",
        "\n",
        "}"
      ]
    },
    {
      "cell_type": "code",
      "execution_count": 10,
      "metadata": {
        "colab": {
          "base_uri": "https://localhost:8080/"
        },
        "id": "RiI1zmddiMkG",
        "outputId": "ff593ca6-aa7c-4f53-9997-05de31806f4a"
      },
      "outputs": [
        {
          "data": {
            "text/plain": [
              "{'train': <torch.utils.data.dataloader.DataLoader at 0x7fb9a96c7bb0>,\n",
              " 'test': <torch.utils.data.dataloader.DataLoader at 0x7fb9a96c7e50>}"
            ]
          },
          "execution_count": 10,
          "metadata": {},
          "output_type": "execute_result"
        }
      ],
      "source": [
        "loaders"
      ]
    },
    {
      "cell_type": "markdown",
      "metadata": {},
      "source": [
        "## Creating the CNN Model"
      ]
    },
    {
      "cell_type": "code",
      "execution_count": 12,
      "metadata": {
        "id": "kKr2a-hXiSeS"
      },
      "outputs": [],
      "source": [
        "class CNN(nn.Module):\n",
        "\n",
        "  def __init__(self):\n",
        "    super(CNN, self).__init__()\n",
        "\n",
        "    self.conv1 = nn.Conv2d(1, 10,kernel_size = 5)\n",
        "    self.conv2 = nn.Conv2d(10, 20,kernel_size = 5)\n",
        "    self.conv2_drop = nn.Dropout2d()\n",
        "    self.fc1 = nn.Linear(320, 50)\n",
        "    self.fc2 = nn.Linear(50,10)\n",
        "\n",
        "  def forward(self, x):\n",
        "    x = F.relu(F.max_pool2d(self.conv1(x),2))\n",
        "    x = F.relu(F.max_pool2d(self.conv2_drop(self.conv2(x)), 2))\n",
        "    x = x.view(-1, 320)\n",
        "    x = F.relu(self.fc1(x))\n",
        "    x = F.dropout(x, training = self.training)\n",
        "    x = self.fc2(x)\n",
        "\n",
        "    return F.softmax(x)"
      ]
    },
    {
      "cell_type": "markdown",
      "metadata": {},
      "source": [
        "## Setting up the Optimizer and the Loss function"
      ]
    },
    {
      "cell_type": "code",
      "execution_count": 14,
      "metadata": {
        "id": "iGi1Lxxqktfk"
      },
      "outputs": [],
      "source": [
        "model = CNN()\n",
        "\n",
        "optimizer = optim.Adam(model.parameters(), lr = 0.001)\n",
        "\n",
        "loss_fn = nn.CrossEntropyLoss()\n",
        "\n",
        "def train(epoch):\n",
        "  model.train()\n",
        "  for batch_idx, (data, target) in enumerate(loaders['train']):\n",
        "    dtaa, target = data, target\n",
        "    optimizer.zero_grad()\n",
        "    output = model(data)\n",
        "    loss = loss_fn(output, target)\n",
        "    loss.backward()\n",
        "    optimizer.step()\n",
        "    if batch_idx % 20 == 0:\n",
        "      print(f\"train epoch: {epoch} [{batch_idx * len(data)}/{len(loaders['train'].dataset)} ({100. * batch_idx / len(loaders['train']):.0f}%)]\\t{loss.item():.6f}\")\n",
        "\n",
        "\n",
        "def test():\n",
        "  model.eval()\n",
        "\n",
        "  test_loss = 0\n",
        "  correct = 0\n",
        "\n",
        "  with torch.no_grad():\n",
        "    for data, target in loaders['test']:\n",
        "      data, target = data, target\n",
        "      output = model(data)\n",
        "      test_loss += loss_fn(output, target).item()\n",
        "      pred = output.argmax(dim=1, keepdim = True)\n",
        "      correct += pred.eq(target.view_as(pred)).sum().item()\n",
        "\n",
        "\n",
        "  test_loss /= len(loaders['test'].dataset)\n",
        "  print(f\"\\nTest set: Average los: {test_loss:.4f}, accuracy {correct}/{len(loaders['test'].dataset)} ({100. * correct / len(loaders['test'].dataset):.0f}%)\\n\")\n"
      ]
    },
    {
      "cell_type": "markdown",
      "metadata": {},
      "source": [
        "## Training the Model"
      ]
    },
    {
      "cell_type": "code",
      "execution_count": 15,
      "metadata": {
        "colab": {
          "base_uri": "https://localhost:8080/"
        },
        "id": "EEfUnnq8nosS",
        "outputId": "0a25934d-c20d-4dc8-ec7b-ba1731179b03"
      },
      "outputs": [
        {
          "name": "stderr",
          "output_type": "stream",
          "text": [
            "/tmp/ipykernel_45236/3009276426.py:20: UserWarning: Implicit dimension choice for softmax has been deprecated. Change the call to include dim=X as an argument.\n",
            "  return F.softmax(x)\n"
          ]
        },
        {
          "name": "stdout",
          "output_type": "stream",
          "text": [
            "train epoch: 1 [0/60000 (0%)]\t2.302390\n",
            "train epoch: 1 [2000/60000 (3%)]\t2.290262\n",
            "train epoch: 1 [4000/60000 (7%)]\t2.134912\n",
            "train epoch: 1 [6000/60000 (10%)]\t1.945941\n",
            "train epoch: 1 [8000/60000 (13%)]\t1.885344\n",
            "train epoch: 1 [10000/60000 (17%)]\t1.865723\n",
            "train epoch: 1 [12000/60000 (20%)]\t1.864193\n",
            "train epoch: 1 [14000/60000 (23%)]\t1.791952\n",
            "train epoch: 1 [16000/60000 (27%)]\t1.718607\n",
            "train epoch: 1 [18000/60000 (30%)]\t1.706667\n",
            "train epoch: 1 [20000/60000 (33%)]\t1.740965\n",
            "train epoch: 1 [22000/60000 (37%)]\t1.661418\n",
            "train epoch: 1 [24000/60000 (40%)]\t1.622489\n",
            "train epoch: 1 [26000/60000 (43%)]\t1.743423\n",
            "train epoch: 1 [28000/60000 (47%)]\t1.695873\n",
            "train epoch: 1 [30000/60000 (50%)]\t1.665736\n",
            "train epoch: 1 [32000/60000 (53%)]\t1.705604\n",
            "train epoch: 1 [34000/60000 (57%)]\t1.619403\n",
            "train epoch: 1 [36000/60000 (60%)]\t1.656950\n",
            "train epoch: 1 [38000/60000 (63%)]\t1.634880\n",
            "train epoch: 1 [40000/60000 (67%)]\t1.607284\n",
            "train epoch: 1 [42000/60000 (70%)]\t1.625752\n",
            "train epoch: 1 [44000/60000 (73%)]\t1.629293\n",
            "train epoch: 1 [46000/60000 (77%)]\t1.579557\n",
            "train epoch: 1 [48000/60000 (80%)]\t1.586682\n",
            "train epoch: 1 [50000/60000 (83%)]\t1.624731\n",
            "train epoch: 1 [52000/60000 (87%)]\t1.562379\n",
            "train epoch: 1 [54000/60000 (90%)]\t1.563556\n",
            "train epoch: 1 [56000/60000 (93%)]\t1.589292\n",
            "train epoch: 1 [58000/60000 (97%)]\t1.603989\n",
            "\n",
            "Test set: Average los: 0.0153, accuracy 9325/10000 (93%)\n",
            "\n",
            "train epoch: 2 [0/60000 (0%)]\t1.593858\n",
            "train epoch: 2 [2000/60000 (3%)]\t1.631708\n",
            "train epoch: 2 [4000/60000 (7%)]\t1.654274\n",
            "train epoch: 2 [6000/60000 (10%)]\t1.582720\n",
            "train epoch: 2 [8000/60000 (13%)]\t1.557600\n",
            "train epoch: 2 [10000/60000 (17%)]\t1.586844\n",
            "train epoch: 2 [12000/60000 (20%)]\t1.588155\n",
            "train epoch: 2 [14000/60000 (23%)]\t1.704904\n",
            "train epoch: 2 [16000/60000 (27%)]\t1.547339\n",
            "train epoch: 2 [18000/60000 (30%)]\t1.545591\n",
            "train epoch: 2 [20000/60000 (33%)]\t1.590439\n",
            "train epoch: 2 [22000/60000 (37%)]\t1.513022\n",
            "train epoch: 2 [24000/60000 (40%)]\t1.558573\n",
            "train epoch: 2 [26000/60000 (43%)]\t1.579954\n",
            "train epoch: 2 [28000/60000 (47%)]\t1.623699\n",
            "train epoch: 2 [30000/60000 (50%)]\t1.619964\n",
            "train epoch: 2 [32000/60000 (53%)]\t1.585183\n",
            "train epoch: 2 [34000/60000 (57%)]\t1.608601\n",
            "train epoch: 2 [36000/60000 (60%)]\t1.589069\n",
            "train epoch: 2 [38000/60000 (63%)]\t1.559926\n",
            "train epoch: 2 [40000/60000 (67%)]\t1.565227\n",
            "train epoch: 2 [42000/60000 (70%)]\t1.602276\n",
            "train epoch: 2 [44000/60000 (73%)]\t1.569107\n",
            "train epoch: 2 [46000/60000 (77%)]\t1.570166\n",
            "train epoch: 2 [48000/60000 (80%)]\t1.547037\n",
            "train epoch: 2 [50000/60000 (83%)]\t1.557731\n",
            "train epoch: 2 [52000/60000 (87%)]\t1.552154\n",
            "train epoch: 2 [54000/60000 (90%)]\t1.597952\n",
            "train epoch: 2 [56000/60000 (93%)]\t1.586711\n",
            "train epoch: 2 [58000/60000 (97%)]\t1.534094\n",
            "\n",
            "Test set: Average los: 0.0151, accuracy 9491/10000 (95%)\n",
            "\n",
            "train epoch: 3 [0/60000 (0%)]\t1.569871\n",
            "train epoch: 3 [2000/60000 (3%)]\t1.572131\n",
            "train epoch: 3 [4000/60000 (7%)]\t1.553060\n",
            "train epoch: 3 [6000/60000 (10%)]\t1.584120\n",
            "train epoch: 3 [8000/60000 (13%)]\t1.627870\n",
            "train epoch: 3 [10000/60000 (17%)]\t1.546637\n",
            "train epoch: 3 [12000/60000 (20%)]\t1.559904\n",
            "train epoch: 3 [14000/60000 (23%)]\t1.572805\n",
            "train epoch: 3 [16000/60000 (27%)]\t1.569841\n",
            "train epoch: 3 [18000/60000 (30%)]\t1.545403\n",
            "train epoch: 3 [20000/60000 (33%)]\t1.604025\n",
            "train epoch: 3 [22000/60000 (37%)]\t1.595669\n",
            "train epoch: 3 [24000/60000 (40%)]\t1.606134\n",
            "train epoch: 3 [26000/60000 (43%)]\t1.646229\n",
            "train epoch: 3 [28000/60000 (47%)]\t1.534999\n",
            "train epoch: 3 [30000/60000 (50%)]\t1.541261\n",
            "train epoch: 3 [32000/60000 (53%)]\t1.576375\n",
            "train epoch: 3 [34000/60000 (57%)]\t1.548666\n",
            "train epoch: 3 [36000/60000 (60%)]\t1.526290\n",
            "train epoch: 3 [38000/60000 (63%)]\t1.587818\n",
            "train epoch: 3 [40000/60000 (67%)]\t1.546689\n",
            "train epoch: 3 [42000/60000 (70%)]\t1.537700\n",
            "train epoch: 3 [44000/60000 (73%)]\t1.582133\n",
            "train epoch: 3 [46000/60000 (77%)]\t1.518988\n",
            "train epoch: 3 [48000/60000 (80%)]\t1.605438\n",
            "train epoch: 3 [50000/60000 (83%)]\t1.548392\n",
            "train epoch: 3 [52000/60000 (87%)]\t1.564780\n",
            "train epoch: 3 [54000/60000 (90%)]\t1.542360\n",
            "train epoch: 3 [56000/60000 (93%)]\t1.574879\n",
            "train epoch: 3 [58000/60000 (97%)]\t1.545508\n",
            "\n",
            "Test set: Average los: 0.0150, accuracy 9565/10000 (96%)\n",
            "\n",
            "train epoch: 4 [0/60000 (0%)]\t1.561666\n",
            "train epoch: 4 [2000/60000 (3%)]\t1.537021\n",
            "train epoch: 4 [4000/60000 (7%)]\t1.515744\n",
            "train epoch: 4 [6000/60000 (10%)]\t1.593501\n",
            "train epoch: 4 [8000/60000 (13%)]\t1.516822\n",
            "train epoch: 4 [10000/60000 (17%)]\t1.561330\n",
            "train epoch: 4 [12000/60000 (20%)]\t1.527798\n",
            "train epoch: 4 [14000/60000 (23%)]\t1.581355\n",
            "train epoch: 4 [16000/60000 (27%)]\t1.557375\n",
            "train epoch: 4 [18000/60000 (30%)]\t1.536469\n",
            "train epoch: 4 [20000/60000 (33%)]\t1.592196\n",
            "train epoch: 4 [22000/60000 (37%)]\t1.542835\n",
            "train epoch: 4 [24000/60000 (40%)]\t1.558157\n",
            "train epoch: 4 [26000/60000 (43%)]\t1.570241\n",
            "train epoch: 4 [28000/60000 (47%)]\t1.571024\n",
            "train epoch: 4 [30000/60000 (50%)]\t1.559489\n",
            "train epoch: 4 [32000/60000 (53%)]\t1.548570\n",
            "train epoch: 4 [34000/60000 (57%)]\t1.539474\n",
            "train epoch: 4 [36000/60000 (60%)]\t1.509048\n",
            "train epoch: 4 [38000/60000 (63%)]\t1.545871\n",
            "train epoch: 4 [40000/60000 (67%)]\t1.567836\n",
            "train epoch: 4 [42000/60000 (70%)]\t1.568135\n",
            "train epoch: 4 [44000/60000 (73%)]\t1.611122\n",
            "train epoch: 4 [46000/60000 (77%)]\t1.510397\n",
            "train epoch: 4 [48000/60000 (80%)]\t1.556324\n",
            "train epoch: 4 [50000/60000 (83%)]\t1.494970\n",
            "train epoch: 4 [52000/60000 (87%)]\t1.534567\n",
            "train epoch: 4 [54000/60000 (90%)]\t1.533799\n",
            "train epoch: 4 [56000/60000 (93%)]\t1.581079\n",
            "train epoch: 4 [58000/60000 (97%)]\t1.561514\n",
            "\n",
            "Test set: Average los: 0.0150, accuracy 9633/10000 (96%)\n",
            "\n",
            "train epoch: 5 [0/60000 (0%)]\t1.560609\n",
            "train epoch: 5 [2000/60000 (3%)]\t1.536666\n",
            "train epoch: 5 [4000/60000 (7%)]\t1.568904\n",
            "train epoch: 5 [6000/60000 (10%)]\t1.547174\n",
            "train epoch: 5 [8000/60000 (13%)]\t1.579355\n",
            "train epoch: 5 [10000/60000 (17%)]\t1.526141\n",
            "train epoch: 5 [12000/60000 (20%)]\t1.639151\n",
            "train epoch: 5 [14000/60000 (23%)]\t1.567646\n",
            "train epoch: 5 [16000/60000 (27%)]\t1.546610\n",
            "train epoch: 5 [18000/60000 (30%)]\t1.522402\n",
            "train epoch: 5 [20000/60000 (33%)]\t1.568300\n",
            "train epoch: 5 [22000/60000 (37%)]\t1.542722\n",
            "train epoch: 5 [24000/60000 (40%)]\t1.538145\n",
            "train epoch: 5 [26000/60000 (43%)]\t1.540023\n",
            "train epoch: 5 [28000/60000 (47%)]\t1.534276\n",
            "train epoch: 5 [30000/60000 (50%)]\t1.511203\n",
            "train epoch: 5 [32000/60000 (53%)]\t1.522357\n",
            "train epoch: 5 [34000/60000 (57%)]\t1.546862\n",
            "train epoch: 5 [36000/60000 (60%)]\t1.526079\n",
            "train epoch: 5 [38000/60000 (63%)]\t1.543739\n",
            "train epoch: 5 [40000/60000 (67%)]\t1.496507\n",
            "train epoch: 5 [42000/60000 (70%)]\t1.571255\n",
            "train epoch: 5 [44000/60000 (73%)]\t1.524688\n",
            "train epoch: 5 [46000/60000 (77%)]\t1.545861\n",
            "train epoch: 5 [48000/60000 (80%)]\t1.532936\n",
            "train epoch: 5 [50000/60000 (83%)]\t1.502686\n",
            "train epoch: 5 [52000/60000 (87%)]\t1.507815\n",
            "train epoch: 5 [54000/60000 (90%)]\t1.500359\n",
            "train epoch: 5 [56000/60000 (93%)]\t1.562626\n",
            "train epoch: 5 [58000/60000 (97%)]\t1.575405\n",
            "\n",
            "Test set: Average los: 0.0150, accuracy 9638/10000 (96%)\n",
            "\n",
            "train epoch: 6 [0/60000 (0%)]\t1.533576\n",
            "train epoch: 6 [2000/60000 (3%)]\t1.551907\n",
            "train epoch: 6 [4000/60000 (7%)]\t1.530482\n",
            "train epoch: 6 [6000/60000 (10%)]\t1.560185\n",
            "train epoch: 6 [8000/60000 (13%)]\t1.547773\n",
            "train epoch: 6 [10000/60000 (17%)]\t1.551498\n",
            "train epoch: 6 [12000/60000 (20%)]\t1.565795\n",
            "train epoch: 6 [14000/60000 (23%)]\t1.546649\n",
            "train epoch: 6 [16000/60000 (27%)]\t1.553588\n",
            "train epoch: 6 [18000/60000 (30%)]\t1.573903\n",
            "train epoch: 6 [20000/60000 (33%)]\t1.519422\n",
            "train epoch: 6 [22000/60000 (37%)]\t1.546098\n",
            "train epoch: 6 [24000/60000 (40%)]\t1.554772\n",
            "train epoch: 6 [26000/60000 (43%)]\t1.584823\n",
            "train epoch: 6 [28000/60000 (47%)]\t1.593150\n",
            "train epoch: 6 [30000/60000 (50%)]\t1.497995\n",
            "train epoch: 6 [32000/60000 (53%)]\t1.570052\n",
            "train epoch: 6 [34000/60000 (57%)]\t1.491146\n",
            "train epoch: 6 [36000/60000 (60%)]\t1.535766\n",
            "train epoch: 6 [38000/60000 (63%)]\t1.525570\n",
            "train epoch: 6 [40000/60000 (67%)]\t1.535189\n",
            "train epoch: 6 [42000/60000 (70%)]\t1.605701\n",
            "train epoch: 6 [44000/60000 (73%)]\t1.509556\n",
            "train epoch: 6 [46000/60000 (77%)]\t1.558632\n",
            "train epoch: 6 [48000/60000 (80%)]\t1.533167\n",
            "train epoch: 6 [50000/60000 (83%)]\t1.572897\n",
            "train epoch: 6 [52000/60000 (87%)]\t1.515087\n",
            "train epoch: 6 [54000/60000 (90%)]\t1.510126\n",
            "train epoch: 6 [56000/60000 (93%)]\t1.521950\n",
            "train epoch: 6 [58000/60000 (97%)]\t1.545653\n",
            "\n",
            "Test set: Average los: 0.0149, accuracy 9681/10000 (97%)\n",
            "\n",
            "train epoch: 7 [0/60000 (0%)]\t1.535815\n",
            "train epoch: 7 [2000/60000 (3%)]\t1.525880\n",
            "train epoch: 7 [4000/60000 (7%)]\t1.533141\n",
            "train epoch: 7 [6000/60000 (10%)]\t1.561822\n",
            "train epoch: 7 [8000/60000 (13%)]\t1.543071\n",
            "train epoch: 7 [10000/60000 (17%)]\t1.570768\n",
            "train epoch: 7 [12000/60000 (20%)]\t1.526793\n",
            "train epoch: 7 [14000/60000 (23%)]\t1.529984\n",
            "train epoch: 7 [16000/60000 (27%)]\t1.529945\n",
            "train epoch: 7 [18000/60000 (30%)]\t1.543167\n",
            "train epoch: 7 [20000/60000 (33%)]\t1.532003\n",
            "train epoch: 7 [22000/60000 (37%)]\t1.535597\n",
            "train epoch: 7 [24000/60000 (40%)]\t1.524764\n",
            "train epoch: 7 [26000/60000 (43%)]\t1.518205\n",
            "train epoch: 7 [28000/60000 (47%)]\t1.569512\n",
            "train epoch: 7 [30000/60000 (50%)]\t1.531403\n",
            "train epoch: 7 [32000/60000 (53%)]\t1.527334\n",
            "train epoch: 7 [34000/60000 (57%)]\t1.563941\n",
            "train epoch: 7 [36000/60000 (60%)]\t1.538116\n",
            "train epoch: 7 [38000/60000 (63%)]\t1.525829\n",
            "train epoch: 7 [40000/60000 (67%)]\t1.530329\n",
            "train epoch: 7 [42000/60000 (70%)]\t1.561178\n",
            "train epoch: 7 [44000/60000 (73%)]\t1.511558\n",
            "train epoch: 7 [46000/60000 (77%)]\t1.502220\n",
            "train epoch: 7 [48000/60000 (80%)]\t1.549770\n",
            "train epoch: 7 [50000/60000 (83%)]\t1.572692\n",
            "train epoch: 7 [52000/60000 (87%)]\t1.518996\n",
            "train epoch: 7 [54000/60000 (90%)]\t1.561411\n",
            "train epoch: 7 [56000/60000 (93%)]\t1.529943\n",
            "train epoch: 7 [58000/60000 (97%)]\t1.534005\n",
            "\n",
            "Test set: Average los: 0.0149, accuracy 9696/10000 (97%)\n",
            "\n",
            "train epoch: 8 [0/60000 (0%)]\t1.530117\n",
            "train epoch: 8 [2000/60000 (3%)]\t1.548873\n",
            "train epoch: 8 [4000/60000 (7%)]\t1.500903\n",
            "train epoch: 8 [6000/60000 (10%)]\t1.514882\n",
            "train epoch: 8 [8000/60000 (13%)]\t1.531913\n",
            "train epoch: 8 [10000/60000 (17%)]\t1.539881\n",
            "train epoch: 8 [12000/60000 (20%)]\t1.554538\n",
            "train epoch: 8 [14000/60000 (23%)]\t1.525020\n",
            "train epoch: 8 [16000/60000 (27%)]\t1.567062\n",
            "train epoch: 8 [18000/60000 (30%)]\t1.498424\n",
            "train epoch: 8 [20000/60000 (33%)]\t1.521572\n",
            "train epoch: 8 [22000/60000 (37%)]\t1.512155\n",
            "train epoch: 8 [24000/60000 (40%)]\t1.494909\n",
            "train epoch: 8 [26000/60000 (43%)]\t1.549399\n",
            "train epoch: 8 [28000/60000 (47%)]\t1.514942\n",
            "train epoch: 8 [30000/60000 (50%)]\t1.528379\n",
            "train epoch: 8 [32000/60000 (53%)]\t1.530671\n",
            "train epoch: 8 [34000/60000 (57%)]\t1.527873\n",
            "train epoch: 8 [36000/60000 (60%)]\t1.526639\n",
            "train epoch: 8 [38000/60000 (63%)]\t1.561718\n",
            "train epoch: 8 [40000/60000 (67%)]\t1.512376\n",
            "train epoch: 8 [42000/60000 (70%)]\t1.545562\n",
            "train epoch: 8 [44000/60000 (73%)]\t1.558692\n",
            "train epoch: 8 [46000/60000 (77%)]\t1.471796\n",
            "train epoch: 8 [48000/60000 (80%)]\t1.554721\n",
            "train epoch: 8 [50000/60000 (83%)]\t1.530985\n",
            "train epoch: 8 [52000/60000 (87%)]\t1.488261\n",
            "train epoch: 8 [54000/60000 (90%)]\t1.551329\n",
            "train epoch: 8 [56000/60000 (93%)]\t1.568840\n",
            "train epoch: 8 [58000/60000 (97%)]\t1.514428\n",
            "\n",
            "Test set: Average los: 0.0149, accuracy 9734/10000 (97%)\n",
            "\n",
            "train epoch: 9 [0/60000 (0%)]\t1.527705\n",
            "train epoch: 9 [2000/60000 (3%)]\t1.496976\n",
            "train epoch: 9 [4000/60000 (7%)]\t1.523052\n",
            "train epoch: 9 [6000/60000 (10%)]\t1.504696\n",
            "train epoch: 9 [8000/60000 (13%)]\t1.524096\n",
            "train epoch: 9 [10000/60000 (17%)]\t1.559767\n",
            "train epoch: 9 [12000/60000 (20%)]\t1.538788\n",
            "train epoch: 9 [14000/60000 (23%)]\t1.525818\n",
            "train epoch: 9 [16000/60000 (27%)]\t1.502916\n",
            "train epoch: 9 [18000/60000 (30%)]\t1.522057\n",
            "train epoch: 9 [20000/60000 (33%)]\t1.509879\n",
            "train epoch: 9 [22000/60000 (37%)]\t1.538789\n",
            "train epoch: 9 [24000/60000 (40%)]\t1.519176\n",
            "train epoch: 9 [26000/60000 (43%)]\t1.494818\n",
            "train epoch: 9 [28000/60000 (47%)]\t1.530816\n",
            "train epoch: 9 [30000/60000 (50%)]\t1.533746\n",
            "train epoch: 9 [32000/60000 (53%)]\t1.579665\n",
            "train epoch: 9 [34000/60000 (57%)]\t1.547612\n",
            "train epoch: 9 [36000/60000 (60%)]\t1.505955\n",
            "train epoch: 9 [38000/60000 (63%)]\t1.556179\n",
            "train epoch: 9 [40000/60000 (67%)]\t1.521871\n",
            "train epoch: 9 [42000/60000 (70%)]\t1.534565\n",
            "train epoch: 9 [44000/60000 (73%)]\t1.582135\n",
            "train epoch: 9 [46000/60000 (77%)]\t1.519688\n",
            "train epoch: 9 [48000/60000 (80%)]\t1.516662\n",
            "train epoch: 9 [50000/60000 (83%)]\t1.515105\n",
            "train epoch: 9 [52000/60000 (87%)]\t1.538252\n",
            "train epoch: 9 [54000/60000 (90%)]\t1.506371\n",
            "train epoch: 9 [56000/60000 (93%)]\t1.518718\n",
            "train epoch: 9 [58000/60000 (97%)]\t1.540585\n",
            "\n",
            "Test set: Average los: 0.0149, accuracy 9720/10000 (97%)\n",
            "\n",
            "train epoch: 10 [0/60000 (0%)]\t1.573877\n",
            "train epoch: 10 [2000/60000 (3%)]\t1.535501\n",
            "train epoch: 10 [4000/60000 (7%)]\t1.541381\n",
            "train epoch: 10 [6000/60000 (10%)]\t1.550344\n",
            "train epoch: 10 [8000/60000 (13%)]\t1.528985\n",
            "train epoch: 10 [10000/60000 (17%)]\t1.547107\n",
            "train epoch: 10 [12000/60000 (20%)]\t1.518169\n",
            "train epoch: 10 [14000/60000 (23%)]\t1.511640\n",
            "train epoch: 10 [16000/60000 (27%)]\t1.511784\n",
            "train epoch: 10 [18000/60000 (30%)]\t1.547424\n",
            "train epoch: 10 [20000/60000 (33%)]\t1.556370\n",
            "train epoch: 10 [22000/60000 (37%)]\t1.514245\n",
            "train epoch: 10 [24000/60000 (40%)]\t1.523193\n",
            "train epoch: 10 [26000/60000 (43%)]\t1.537053\n",
            "train epoch: 10 [28000/60000 (47%)]\t1.504746\n",
            "train epoch: 10 [30000/60000 (50%)]\t1.498121\n",
            "train epoch: 10 [32000/60000 (53%)]\t1.529055\n",
            "train epoch: 10 [34000/60000 (57%)]\t1.515785\n",
            "train epoch: 10 [36000/60000 (60%)]\t1.499007\n",
            "train epoch: 10 [38000/60000 (63%)]\t1.481880\n",
            "train epoch: 10 [40000/60000 (67%)]\t1.568988\n",
            "train epoch: 10 [42000/60000 (70%)]\t1.523363\n",
            "train epoch: 10 [44000/60000 (73%)]\t1.498204\n",
            "train epoch: 10 [46000/60000 (77%)]\t1.498690\n",
            "train epoch: 10 [48000/60000 (80%)]\t1.529018\n",
            "train epoch: 10 [50000/60000 (83%)]\t1.604506\n",
            "train epoch: 10 [52000/60000 (87%)]\t1.518018\n",
            "train epoch: 10 [54000/60000 (90%)]\t1.533259\n",
            "train epoch: 10 [56000/60000 (93%)]\t1.542588\n",
            "train epoch: 10 [58000/60000 (97%)]\t1.578786\n",
            "\n",
            "Test set: Average los: 0.0149, accuracy 9728/10000 (97%)\n",
            "\n"
          ]
        }
      ],
      "source": [
        "for epoch in range(1,11):\n",
        "  train(epoch)\n",
        "  test()"
      ]
    },
    {
      "cell_type": "markdown",
      "metadata": {},
      "source": [
        "## Visualizing a prediction "
      ]
    },
    {
      "cell_type": "code",
      "execution_count": 16,
      "metadata": {
        "colab": {
          "base_uri": "https://localhost:8080/",
          "height": 485
        },
        "id": "sbnUqsGYpfLZ",
        "outputId": "c58f6f7f-ca77-4de8-c7a8-fb39b8aa9da6"
      },
      "outputs": [
        {
          "name": "stdout",
          "output_type": "stream",
          "text": [
            "prediction: 0\n"
          ]
        },
        {
          "name": "stderr",
          "output_type": "stream",
          "text": [
            "/tmp/ipykernel_45236/3009276426.py:20: UserWarning: Implicit dimension choice for softmax has been deprecated. Change the call to include dim=X as an argument.\n",
            "  return F.softmax(x)\n"
          ]
        },
        {
          "data": {
            "image/png": "[encoded data removed]",
            "text/plain": [
              "<Figure size 640x480 with 1 Axes>"
            ]
          },
          "metadata": {},
          "output_type": "display_data"
        }
      ],
      "source": [
        "model.eval()\n",
        "data, target = testData[3]\n",
        "data = data.unsqueeze(0)\n",
        "output = model(data)\n",
        "prediction = output.argmax(dim = 1, keepdim = True).item()\n",
        "\n",
        "print(f\"prediction: {prediction}\")\n",
        "image = data.squeeze(0).squeeze(0).cpu().numpy()\n",
        "\n",
        "plt.imshow(image, cmap='gray')\n",
        "plt.show()"
      ]
    }
  ],
  "metadata": {
    "colab": {
      "provenance": []
    },
    "kernelspec": {
      "display_name": "Python 3",
      "name": "python3"
    },
    "language_info": {
      "codemirror_mode": {
        "name": "ipython",
        "version": 3
      },
      "file_extension": ".py",
      "mimetype": "text/x-python",
      "name": "python",
      "nbconvert_exporter": "python",
      "pygments_lexer": "ipython3",
      "version": "3.9.19"
    }
  },
  "nbformat": 4,
  "nbformat_minor": 0
}
